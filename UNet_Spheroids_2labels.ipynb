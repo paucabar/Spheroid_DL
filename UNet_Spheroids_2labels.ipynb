{
 "cells": [
  {
   "cell_type": "code",
   "execution_count": null,
   "metadata": {},
   "outputs": [],
   "source": [
    "import os\n",
    "from skimage import io\n",
    "from glob import glob\n",
    "from shutil import copyfile\n",
    "import imageio\n",
    "\n",
    "import utils.preprocessing"
   ]
  },
  {
   "cell_type": "markdown",
   "metadata": {},
   "source": [
    "## Data Preparation"
   ]
  },
  {
   "cell_type": "code",
   "execution_count": null,
   "metadata": {},
   "outputs": [],
   "source": [
    "# Mrthod to create an output folder splitting the ground truth in 3 subsets: train, validation and tetst\n",
    "# Instance labels are transformed into semantic labels, adding an esge class around the objects\n",
    "\n",
    "def create_train_val_test_split(root, out_folder):\n",
    "    image_paths = glob(os.path.join(root, \"images\", \"*.tif\"))\n",
    "    image_paths.sort()\n",
    "    label_paths = glob(os.path.join(root, \"labels\", \"*.tif\"))\n",
    "    label_paths.sort()\n",
    "\n",
    "    assert len(image_paths) == len(label_paths)\n",
    "\n",
    "    # we have 40 images with annotations and use 32 for train, 4 for val and 4 for test\n",
    "    n_train = 32\n",
    "    n_val = 4\n",
    "\n",
    "    for ii, (im, lbl) in enumerate(zip(image_paths, label_paths)):\n",
    "        if ii < n_train:\n",
    "            split = \"train\"\n",
    "        elif ii < (n_train + n_val):\n",
    "            split = \"val\"\n",
    "        else:\n",
    "            split = \"test\"\n",
    "        im_out = os.path.join(out_folder, split, \"images\")\n",
    "        lbl_out = os.path.join(out_folder, split, \"labels\")\n",
    "        os.makedirs(im_out, exist_ok=True)\n",
    "        os.makedirs(lbl_out, exist_ok=True)\n",
    "        copyfile(im, os.path.join(im_out, os.path.split(im)[1]))\n",
    "        \n",
    "        # Label pre-processing: instances --> semantic labels (object / edges)\n",
    "        lbl_image = io.imread(lbl) # import labels mask\n",
    "        lbl_sem = utils.preprocessing.semantic_edges(lbl_image, 2) # generate semantic labels\n",
    "        print('Saving:', os.path.join(lbl_out, os.path.split(lbl)[1]))\n",
    "        imageio.imwrite(os.path.join(lbl_out, os.path.split(lbl)[1]), lbl_sem) # export semantic labels\n"
   ]
  },
  {
   "cell_type": "code",
   "execution_count": null,
   "metadata": {},
   "outputs": [],
   "source": [
    "root = r'C:\\Users\\Pau\\Desktop\\Neurosphere Annotations\\export'\n",
    "out_folder = os.path.join(root, 'out_data_preparation')\n",
    "\n",
    "create_train_val_test_split(root, out_folder)"
   ]
  },
  {
   "cell_type": "code",
   "execution_count": null,
   "metadata": {},
   "outputs": [],
   "source": []
  }
 ],
 "metadata": {
  "kernelspec": {
   "display_name": "Python 3.9.12 ('base')",
   "language": "python",
   "name": "python3"
  },
  "language_info": {
   "codemirror_mode": {
    "name": "ipython",
    "version": 3
   },
   "file_extension": ".py",
   "mimetype": "text/x-python",
   "name": "python",
   "nbconvert_exporter": "python",
   "pygments_lexer": "ipython3",
   "version": "3.9.12"
  },
  "orig_nbformat": 4,
  "vscode": {
   "interpreter": {
    "hash": "2d12ee0532f5fe809fea6ed49d84e6d6e9be1b8657fb8079f6358b85f8ed0388"
   }
  }
 },
 "nbformat": 4,
 "nbformat_minor": 2
}
