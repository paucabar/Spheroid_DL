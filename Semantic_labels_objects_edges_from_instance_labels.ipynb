{
 "cells": [
  {
   "cell_type": "code",
   "execution_count": null,
   "metadata": {},
   "outputs": [],
   "source": [
    "import os\n",
    "from skimage import io\n",
    "import matplotlib.pyplot as plt\n",
    "#import skimage.morphology\n",
    "import skimage.segmentation\n",
    "from skimage.measure import regionprops\n",
    "#from scipy.ndimage.morphology import distance_transform_edt\n",
    "import numpy as np\n",
    "from scipy import ndimage\n"
   ]
  },
  {
   "cell_type": "code",
   "execution_count": null,
   "metadata": {},
   "outputs": [],
   "source": [
    "# Path\n",
    "ground_truth_path = r'D:\\Institute of Genetics and Cancer\\Neurosphere assay\\Assess_Segmentation_Data\\Ground_Truth'\n",
    "\n",
    "# Import test image\n",
    "image_name = 'C - 02.tif'\n",
    "img_filename = os.path.join(ground_truth_path, image_name)\n",
    "image = io.imread(img_filename)\n",
    "\n",
    "# Get labels and plot\n",
    "image = skimage.morphology.label(image)\n",
    "plt.imshow(image)"
   ]
  },
  {
   "cell_type": "code",
   "execution_count": null,
   "metadata": {},
   "outputs": [],
   "source": [
    "# Methods to erode label image\n",
    "\n",
    "# Converts a single label into a binary mask and erodes it\n",
    "def erode_mask(image, label_id, distance):   \n",
    "    binary_label_id = np.where(image == label_id, 1, 0) # crates binary image containing only the specified label\n",
    "    eroded = ndimage.binary_erosion(binary_label_id, iterations = distance) # erodes the binary mask\n",
    "    eroded_label_id = np.where(eroded == 1, label_id, 0) # creates label image containing only the specified label after erosion\n",
    "\n",
    "    return eroded_label_id\n",
    "\n",
    "# Erodes all the masks contained in a label image\n",
    "def erode_labels(image, distance):\n",
    "    eroded_labels_list = [] # creates empty list to save images of the eroded labels\n",
    "    regions = regionprops(image)\n",
    "\n",
    "    # erodes every label and stores them as individual images\n",
    "    for i in range(len(regions)):\n",
    "        label_id = regions[i].label # gets the label id of the current region\n",
    "        eroded_label = erode_mask(image, label_id, distance) # creates label image containing only the specified label after erosion\n",
    "        eroded_labels_list.append(eroded_label) # stores the image on the list\n",
    "\n",
    "    # reconstructs the label image, now containing the eroded labels\n",
    "    eroded_labels_stack = np.stack(eroded_labels_list) # creates stack from list of images (numpy arrays)\n",
    "    image_eroded = np.max(eroded_labels_stack, axis = 0) # calculates the maximum projection to get back a 2D, labelled image\n",
    "\n",
    "    # reassigns labels if any mask is missing after erosion and rises a flag\n",
    "    if(len(regionprops(image_eroded)) < len(regions)):\n",
    "        image_eroded = skimage.morphology.label(image_eroded)\n",
    "        print('\\033[93m[WARNING]: Objects missing after erosion. Consider reducing iterations (distance)')\n",
    "\n",
    "    return image_eroded"
   ]
  },
  {
   "cell_type": "code",
   "execution_count": null,
   "metadata": {},
   "outputs": [],
   "source": [
    "# Method to get semantic labels of objects and edges\n",
    "\n",
    "# NOTE: distance (in pixels) sets the number of iterations for both eroding and dilating the original labels\n",
    "# For example, setting a distance of 1 will generate edge labels that are 2 pixels thik (1 eroded + 1 dilated),\n",
    "# whereas a distance of 2 returns edge labels 4 pixels thick (2 eroded + 2 dilated)\n",
    "\n",
    "def semantic_edges (image, distance):\n",
    "    # creates a dilated and an eroded image keeping the label IDs\n",
    "    expanded_labels = skimage.segmentation.expand_labels(label_image=image, distance=distance) # dilates labels into background regions, but never into neighbouring labels\n",
    "    eroded_labels = erode_labels(image, distance)\n",
    "\n",
    "    # creates label images of both edges and objects\n",
    "    edges = expanded_labels - eroded_labels\n",
    "    objects = expanded_labels - edges\n",
    "\n",
    "    # creates semantic labels of both edges and objects\n",
    "    edges_semantic = np.where(edges > 0, 1, 0) # crates image containing only edge regions (label 1)\n",
    "    object_semantic = np.where(objects > 0, 2, 0) # crates image containing only object regions (label 2)\n",
    "    semantic_labels = edges_semantic + object_semantic # creates a single image with semantic labels for both edges and objects\n",
    "\n",
    "    return semantic_labels.astype('uint8')"
   ]
  },
  {
   "cell_type": "code",
   "execution_count": null,
   "metadata": {},
   "outputs": [],
   "source": [
    "# Get semantic image\n",
    "image_semantic = semantic_edges(image, 2)\n",
    "\n",
    "# Crop region for better visualisation\n",
    "image_semantic_crop = image_semantic[800:1200, 800:1200]\n",
    "\n",
    "# Display crop of semantic labels\n",
    "plt.imshow(image_semantic_crop)\n",
    "plt.colorbar(ticks=[0, 1, 2])\n",
    "plt.show()"
   ]
  }
 ],
 "metadata": {
  "kernelspec": {
   "display_name": "Python 3.9.12 ('base')",
   "language": "python",
   "name": "python3"
  },
  "language_info": {
   "codemirror_mode": {
    "name": "ipython",
    "version": 3
   },
   "file_extension": ".py",
   "mimetype": "text/x-python",
   "name": "python",
   "nbconvert_exporter": "python",
   "pygments_lexer": "ipython3",
   "version": "3.9.12"
  },
  "orig_nbformat": 4,
  "vscode": {
   "interpreter": {
    "hash": "2d12ee0532f5fe809fea6ed49d84e6d6e9be1b8657fb8079f6358b85f8ed0388"
   }
  }
 },
 "nbformat": 4,
 "nbformat_minor": 2
}
