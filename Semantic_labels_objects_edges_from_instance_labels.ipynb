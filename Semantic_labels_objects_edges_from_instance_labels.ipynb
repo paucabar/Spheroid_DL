{
 "cells": [
  {
   "cell_type": "code",
   "execution_count": null,
   "metadata": {},
   "outputs": [],
   "source": [
    "import os\n",
    "from skimage import io\n",
    "import matplotlib.pyplot as plt\n",
    "#import skimage.morphology\n",
    "import skimage.segmentation\n",
    "from skimage.measure import regionprops\n",
    "#from scipy.ndimage.morphology import distance_transform_edt\n",
    "import numpy as np\n",
    "from scipy import ndimage\n"
   ]
  },
  {
   "cell_type": "code",
   "execution_count": null,
   "metadata": {},
   "outputs": [],
   "source": [
    "# Path\n",
    "ground_truth_path = r'D:\\Institute of Genetics and Cancer\\Neurosphere assay\\Assess_Segmentation_Data\\Ground_Truth'\n",
    "\n",
    "# Import test image\n",
    "image_name = 'C - 02.tif'\n",
    "img_filename = os.path.join(ground_truth_path, image_name)\n",
    "image = io.imread(img_filename)\n",
    "\n",
    "# Get labels and plot\n",
    "image = skimage.morphology.label(image)\n",
    "plt.imshow(image)"
   ]
  },
  {
   "cell_type": "code",
   "execution_count": null,
   "metadata": {},
   "outputs": [],
   "source": [
    "# Method to erode label image\n",
    "def erode_labels(image, erosion_iterations):\n",
    "    # create empty list where the eroded masks can be saved to\n",
    "    list_of_eroded_masks = []\n",
    "    regions = regionprops(image)\n",
    "    def erode_mask(image_labels, label_id, erosion_iterations):\n",
    "        \n",
    "        only_current_label_id = np.where(image_labels == label_id, 1, 0)\n",
    "        eroded = ndimage.binary_erosion(only_current_label_id, iterations = erosion_iterations)\n",
    "        relabeled_eroded = np.where(eroded == 1, label_id, 0)\n",
    "        return(relabeled_eroded)\n",
    "\n",
    "    for i in range(len(regions)):\n",
    "        label_id = regions[i].label\n",
    "        list_of_eroded_masks.append(erode_mask(image, label_id, erosion_iterations))\n",
    "\n",
    "    # convert list of numpy arrays to stacked numpy array\n",
    "    final_array = np.stack(list_of_eroded_masks)\n",
    "\n",
    "    # max_IP to reduce the stack of arrays, each containing one labelled region, to a single 2D np array. \n",
    "    final_array_labelled = np.sum(final_array, axis = 0)\n",
    "    return(final_array_labelled)"
   ]
  },
  {
   "cell_type": "code",
   "execution_count": null,
   "metadata": {},
   "outputs": [],
   "source": [
    "#eroded = erode_labels(image, 10)\n",
    "#plt.imshow(eroded)"
   ]
  },
  {
   "cell_type": "code",
   "execution_count": null,
   "metadata": {},
   "outputs": [],
   "source": [
    "# Method to get semantic labels of objects and edges\n",
    "def semantic_edges (image, distance):\n",
    "    expanded_labels = skimage.segmentation.expand_labels(label_image=image, distance=distance)\n",
    "    eroded_labels = erode_labels(image, distance)\n",
    "\n",
    "    edges = expanded_labels - eroded_labels\n",
    "    objects = expanded_labels - edges\n",
    "\n",
    "    edges_semantic = np.where(edges > 0, 1, 0)\n",
    "    object_semantic = np.where(objects > 0, 2, 0)\n",
    "    semantic_labels = edges_semantic + object_semantic\n",
    "    return semantic_labels"
   ]
  },
  {
   "cell_type": "code",
   "execution_count": null,
   "metadata": {},
   "outputs": [],
   "source": [
    "# Get semantic image\n",
    "image_semantic = semantic_edges(image, 2)\n",
    "\n",
    "# Show a crop\n",
    "image_semantic_crop = image_semantic[800:1200, 800:1200]\n",
    "plt.imshow(image_semantic_crop)\n",
    "plt.colorbar()\n",
    "plt.show()"
   ]
  }
 ],
 "metadata": {
  "kernelspec": {
   "display_name": "Python 3.9.12 ('base')",
   "language": "python",
   "name": "python3"
  },
  "language_info": {
   "codemirror_mode": {
    "name": "ipython",
    "version": 3
   },
   "file_extension": ".py",
   "mimetype": "text/x-python",
   "name": "python",
   "nbconvert_exporter": "python",
   "pygments_lexer": "ipython3",
   "version": "3.9.12"
  },
  "orig_nbformat": 4,
  "vscode": {
   "interpreter": {
    "hash": "2d12ee0532f5fe809fea6ed49d84e6d6e9be1b8657fb8079f6358b85f8ed0388"
   }
  }
 },
 "nbformat": 4,
 "nbformat_minor": 2
}
