{
 "cells": [
  {
   "cell_type": "code",
   "execution_count": null,
   "metadata": {},
   "outputs": [],
   "source": [
    "import os\n",
    "import glob\n",
    "from skimage import io\n",
    "import matplotlib.pyplot as plt\n",
    "\n",
    "from scipy import ndimage\n",
    "from skimage.segmentation import clear_border \n",
    "from scipy import ndimage as ndi\n",
    "#from skimage.segmentation import watershed\n",
    "#from skimage.feature import peak_local_max\n",
    "from skimage.segmentation import expand_labels\n",
    "from skimage.morphology import remove_small_objects\n",
    "import numpy as np\n",
    "\n",
    "#import imageio"
   ]
  },
  {
   "cell_type": "code",
   "execution_count": null,
   "metadata": {},
   "outputs": [],
   "source": [
    "prediction_path = r'D:\\Institute of Genetics and Cancer\\Neurosphere assay\\Assess_Segmentation_Data\\UNet-020223'\n",
    "output_path = r'D:\\Institute of Genetics and Cancer\\Neurosphere assay\\Assess_Segmentation_Data\\UNet_30'\n",
    "\n",
    "all_images =[]\n",
    "for file in glob.glob(prediction_path + \"\\*.tif\"):\n",
    "    all_images.append(os.path.basename(file))\n",
    "\n",
    "print(all_images)"
   ]
  },
  {
   "cell_type": "code",
   "execution_count": null,
   "metadata": {},
   "outputs": [],
   "source": [
    "# Now we want to separate the two objects in image\n",
    "# Generate the markers as local maxima of the distance to the background\n",
    "\n",
    "#def watershed_segmentation(image):\n",
    "#    distance = ndi.distance_transform_edt(image)\n",
    "#    coords = peak_local_max(distance, footprint=np.ones((47, 47)), labels=image)\n",
    "#    mask = np.zeros(distance.shape, dtype=bool)\n",
    "#    mask[tuple(coords.T)] = True\n",
    "#    markers, _ = ndi.label(mask)\n",
    "#    labels = watershed(-distance, markers, mask=image)\n",
    "#    return labels"
   ]
  },
  {
   "cell_type": "code",
   "execution_count": null,
   "metadata": {},
   "outputs": [],
   "source": [
    "for image_name in all_images:\n",
    "    # Load predictions\n",
    "    img_filename = os.path.join(prediction_path, image_name)\n",
    "    prediction_multlabel = io.imread(img_filename)\n",
    "\n",
    "    # create binary image, fill holes and exclude edges\n",
    "    prediction_binary = prediction_multlabel == 2 # create binary mask of class 2 (spheroid) pixels\n",
    "    prediction_filled = ndimage.binary_fill_holes(prediction_binary) # fill holes\n",
    "    prediction_cleared = clear_border(prediction_filled)# exclude objects on image edges\n",
    "\n",
    "    # watershed based on distance transform\n",
    "    #prediction_labels = watershed_segmentation(prediction_cleared)\n",
    "\n",
    "    # expand labels 2 pixels to compensate for the pre-processing\n",
    "    prediction_labels, _ = ndi.label(prediction_cleared) # convert into a label image\n",
    "    prediction_filtered = remove_small_objects(prediction_labels, 10) # filter out small objects\n",
    "    prediction_expanded = expand_labels(label_image=prediction_filtered, distance=2) # expand objects 2 pixels\n",
    "\n",
    "    # export labels\n",
    "    #imageio.imwrite(os.path.join(output_path, image_name), prediction_expanded)\n",
    "    io.imsave(os.path.join(output_path, image_name), prediction_expanded)\n"
   ]
  },
  {
   "cell_type": "code",
   "execution_count": null,
   "metadata": {},
   "outputs": [],
   "source": []
  }
 ],
 "metadata": {
  "kernelspec": {
   "display_name": "Python 3.9.12 ('base')",
   "language": "python",
   "name": "python3"
  },
  "language_info": {
   "codemirror_mode": {
    "name": "ipython",
    "version": 3
   },
   "file_extension": ".py",
   "mimetype": "text/x-python",
   "name": "python",
   "nbconvert_exporter": "python",
   "pygments_lexer": "ipython3",
   "version": "3.9.12"
  },
  "orig_nbformat": 4,
  "vscode": {
   "interpreter": {
    "hash": "2d12ee0532f5fe809fea6ed49d84e6d6e9be1b8657fb8079f6358b85f8ed0388"
   }
  }
 },
 "nbformat": 4,
 "nbformat_minor": 2
}
