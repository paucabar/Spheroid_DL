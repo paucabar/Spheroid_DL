{
 "cells": [
  {
   "cell_type": "code",
   "execution_count": null,
   "metadata": {},
   "outputs": [],
   "source": [
    "import os\n",
    "from skimage import io\n",
    "import matplotlib.pyplot as plt\n",
    "\n",
    "from skimage.measure import regionprops\n",
    "from skimage.morphology import label\n",
    "from skimage.segmentation import expand_labels\n",
    "from skimage.measure import regionprops\n",
    "import numpy as np\n",
    "from scipy import ndimage"
   ]
  },
  {
   "cell_type": "code",
   "execution_count": null,
   "metadata": {},
   "outputs": [],
   "source": [
    "labels_path = r'D:\\Institute of Genetics and Cancer\\Neurosphere assay\\Assess_Segmentation_Data\\Ground_Truth'\n",
    "images_path = r'D:\\Institute of Genetics and Cancer\\Neurosphere assay\\Assess_Segmentation_Data\\Images'\n",
    "\n",
    "# Import test image\n",
    "image_name = 'C - 02.tif'\n",
    "\n",
    "img_filename = os.path.join(images_path, image_name)\n",
    "lbl_filename = os.path.join(labels_path, image_name)\n",
    "image = io.imread(img_filename)\n",
    "labels = io.imread(lbl_filename)\n",
    "\n",
    "# Get labels and plot\n",
    "labels = label(labels)\n",
    "\n",
    "fig, ax = plt.subplots(1, 3, figsize=(16, 8))\n",
    "ax[0].imshow(image, cmap='gray')\n",
    "ax[1].imshow(labels, cmap='nipy_spectral')\n",
    "ax[2].imshow(image, cmap='gray')\n",
    "ax[2].imshow(labels, cmap='nipy_spectral', alpha=.5)\n",
    "fig.tight_layout"
   ]
  },
  {
   "cell_type": "code",
   "execution_count": null,
   "metadata": {},
   "outputs": [],
   "source": [
    "import math\n",
    "\n",
    "# Define additiinal properties\n",
    "def circularity(p):\n",
    "    return 4 * math.pi * p['area'] / p['perimeter']**2\n",
    "def aspect_ratio(p):\n",
    "    return p['axis_major_length'] / p['axis_minor_length']\n",
    "\n",
    "# Get properties as numpy arrays\n",
    "props = regionprops(labels)\n",
    "area_array = np.asarray([p['area'] for p in props])\n",
    "solidity_array = np.asarray([p['solidity'] for p in props])\n",
    "circularity_array = np.asarray([circularity(p) for p in props])\n",
    "aspect_ratio_array = np.asarray([aspect_ratio(p) for p in props])"
   ]
  },
  {
   "cell_type": "code",
   "execution_count": null,
   "metadata": {},
   "outputs": [],
   "source": [
    "class_list = []\n",
    "#bin_intervals=[0,250,625,900,10000]\n",
    "\n",
    "for i in range(len(area_array)):\n",
    "    label_id = props[i].label # gets the label id of the current region\n",
    "    \n",
    "    if(area_array[i]<250):\n",
    "        class_mask = np.where(labels == label_id, 1, 0)\n",
    "    elif(area_array[i]<1000):\n",
    "        class_mask = np.where(labels == label_id, 2, 0)\n",
    "        class_mask.shape\n",
    "    elif(area_array[i]<2000):\n",
    "        class_mask = np.where(labels == label_id, 3, 0)\n",
    "    else:\n",
    "        class_mask = np.where(labels == label_id, 4, 0)\n",
    "    \n",
    "    class_list.append(class_mask)\n",
    "\n",
    "# reconstructs the label image, now containing the eroded labels\n",
    "class_stack = np.stack(class_list) # creates stack from list of images (numpy arrays)\n",
    "image_classes = np.max(class_stack, axis = 0) # calculates the maximum projection to get back a 2D, labelled image"
   ]
  },
  {
   "cell_type": "code",
   "execution_count": null,
   "metadata": {},
   "outputs": [],
   "source": [
    "from matplotlib import colors\n",
    "cmap = colors.ListedColormap([u'k', u'tab:blue', u'tab:orange', u'tab:green', u'tab:red'])\n",
    "#plt.imshow(image_classes, cmap=cmap, figsize=(8, 8))\n",
    "#plt.colorbar(ticks=[0, 1, 2, 3, 4])\n",
    "#plt.show()\n",
    "\n",
    "\n",
    "fig, ax = plt.subplots(1, 3, figsize=(16, 8))\n",
    "ax[0].imshow(image, cmap='gray')\n",
    "ax[1].imshow(image_classes, cmap=cmap, interpolation='none')\n",
    "ax[2].imshow(image, cmap='gray')\n",
    "ax[2].imshow(image_classes, cmap=cmap, alpha=.5, interpolation='none')\n",
    "#plt.colorbar(ticks=[0, 1, 2, 3, 4])\n",
    "\n",
    "import matplotlib as mpl\n",
    "cmap_colorbar = colors.ListedColormap([u'tab:blue', u'tab:orange', u'tab:green', u'tab:red'])\n",
    "norm = colors.Normalize(vmin=1, vmax=4)\n",
    "fig.colorbar(mpl.cm.ScalarMappable(norm=norm, cmap=cmap_colorbar), ax=ax[:], ticks=[1, 2, 3, 4])\n",
    "\n",
    "fig.tight_layout"
   ]
  },
  {
   "cell_type": "code",
   "execution_count": null,
   "metadata": {},
   "outputs": [],
   "source": [
    "fig, ax = plt.subplots(figsize=(12,12))\n",
    "ax.imshow(image, cmap='gray')\n",
    "ax.imshow(image_classes, cmap=cmap, alpha=.5, interpolation='none')\n",
    "plt.axis('off')"
   ]
  },
  {
   "cell_type": "code",
   "execution_count": null,
   "metadata": {},
   "outputs": [],
   "source": [
    "from skimage.color import label2rgb\n",
    "\n",
    "# define RGB colors from Tableau 10 (default in matplotlib)\n",
    "t10_blue = [31/255, 119/255, 180/255]\n",
    "t10_orange = [255/255, 127/255, 14/255]\n",
    "t10_green = [44/255, 160/255, 44/255]\n",
    "t10_red = [214/255, 39/255, 40/255]\n",
    "\n",
    "# list of colors\n",
    "colors=[t10_blue, t10_orange, t10_green, t10_red]\n",
    "\n",
    "# create RGB image with color-labels over the original, grayscale image\n",
    "rgb_labels = label2rgb(\n",
    "    label=image_classes,\n",
    "    image=image,\n",
    "    colors=colors,\n",
    "    alpha=0.5,\n",
    "    bg_label=0,\n",
    "    bg_color=None\n",
    "    )\n",
    "\n",
    "# plot original and color-coded images\n",
    "fig, ax = plt.subplots(1,2, figsize=(20,10))\n",
    "ax[0].imshow(image, cmap='gray')\n",
    "ax[1].imshow(rgb_labels)"
   ]
  },
  {
   "cell_type": "code",
   "execution_count": null,
   "metadata": {},
   "outputs": [],
   "source": []
  }
 ],
 "metadata": {
  "kernelspec": {
   "display_name": "Python 3.9.12 ('base')",
   "language": "python",
   "name": "python3"
  },
  "language_info": {
   "codemirror_mode": {
    "name": "ipython",
    "version": 3
   },
   "file_extension": ".py",
   "mimetype": "text/x-python",
   "name": "python",
   "nbconvert_exporter": "python",
   "pygments_lexer": "ipython3",
   "version": "3.9.12"
  },
  "orig_nbformat": 4,
  "vscode": {
   "interpreter": {
    "hash": "2d12ee0532f5fe809fea6ed49d84e6d6e9be1b8657fb8079f6358b85f8ed0388"
   }
  }
 },
 "nbformat": 4,
 "nbformat_minor": 2
}
