{
 "cells": [
  {
   "cell_type": "code",
   "execution_count": null,
   "metadata": {},
   "outputs": [],
   "source": [
    "import os\n",
    "import glob\n",
    "from skimage import io\n",
    "import matplotlib.pyplot as plt\n",
    "\n",
    "from skimage.measure import regionprops\n",
    "from skimage.morphology import label\n",
    "import numpy as np\n",
    "\n",
    "from pathlib import Path\n",
    "import imageio"
   ]
  },
  {
   "cell_type": "code",
   "execution_count": null,
   "metadata": {},
   "outputs": [],
   "source": [
    "labels_path = r'C:\\Users\\Pau\\Desktop\\Neurosphere Annotations\\export\\labels'\n",
    "images_path = r'C:\\Users\\Pau\\Desktop\\Neurosphere Annotations\\export\\images'\n",
    "\n",
    "all_images =[]\n",
    "for file in glob.glob(images_path + \"\\*.tif\"):\n",
    "    all_images.append(os.path.basename(file))"
   ]
  },
  {
   "cell_type": "code",
   "execution_count": null,
   "metadata": {},
   "outputs": [],
   "source": [
    "def calculate_regionprops(label_image):\n",
    "    import math\n",
    "\n",
    "    # Define additiinal properties\n",
    "    def circularity(p):\n",
    "        return 4 * math.pi * p['area'] / (p['perimeter_crofton'] ** 2) # 'perimeter' calculates circularities up to 1.5... crofton seems to be more accurate\n",
    "    def aspect_ratio(p):\n",
    "        return p['axis_major_length'] / p['axis_minor_length']\n",
    "\n",
    "    # Get properties as numpy arrays\n",
    "    props = regionprops(label_image)\n",
    "    area_np = np.asarray([p['area'] for p in props])\n",
    "    solidity_np = np.asarray([p['solidity'] for p in props])\n",
    "    circularity_np = np.asarray([circularity(p) for p in props])\n",
    "    aspect_ratio_np = np.asarray([aspect_ratio(p) for p in props])\n",
    "    return area_np, solidity_np, circularity_np, aspect_ratio_np"
   ]
  },
  {
   "cell_type": "markdown",
   "metadata": {},
   "source": [
    "## Plot histograms for the different shape descriptors"
   ]
  },
  {
   "cell_type": "code",
   "execution_count": null,
   "metadata": {},
   "outputs": [],
   "source": [
    "area_array = []\n",
    "solidity_array = []\n",
    "circularity_array = []\n",
    "aspect_ratio_array = []\n",
    "for image_name in all_images:\n",
    "    # Load original image\n",
    "    #img_filename = os.path.join(images_path, image_name)\n",
    "    #image = io.imread(img_filename)\n",
    "        \n",
    "    # Load label image\n",
    "    lbl_filename = os.path.join(labels_path, image_name)\n",
    "    labels = io.imread(lbl_filename)\n",
    "    \n",
    "    # Transform to label matrix\n",
    "    labels = label(labels)\n",
    "\n",
    "    area, sol, circ, as_re = calculate_regionprops(labels)\n",
    "    area_array = np.concatenate((area_array, area))\n",
    "    solidity_array = np.concatenate((solidity_array, sol))\n",
    "    circularity_array = np.concatenate((circularity_array, circ))\n",
    "    aspect_ratio_array = np.concatenate((aspect_ratio_array, as_re))"
   ]
  },
  {
   "cell_type": "code",
   "execution_count": null,
   "metadata": {},
   "outputs": [],
   "source": [
    "fig, ax = plt.subplots(1, 4, figsize=(20, 5))\n",
    "fig.suptitle('Object distribution for different shape descriptors', fontsize=16)\n",
    "ax[0].set_title('Area')\n",
    "ax[0].set_ylabel('Number of objects')\n",
    "ax[0].hist(area_array, bins=100)\n",
    "ax[1].set_title('Solidity')\n",
    "ax[1].set_ylabel('Number of objects')\n",
    "ax[1].hist(solidity_array, bins=100)\n",
    "ax[2].set_title('Circularity')\n",
    "ax[2].set_ylabel('Number of objects')\n",
    "ax[2].hist(circularity_array, bins=100)\n",
    "ax[3].set_title('Aspect Ratio')\n",
    "ax[3].set_ylabel('Number of objects')\n",
    "ax[3].hist(aspect_ratio_array, bins=100)\n",
    "plt.show()"
   ]
  },
  {
   "cell_type": "markdown",
   "metadata": {},
   "source": [
    "## Create color-coded images for the different shape descriptors"
   ]
  },
  {
   "cell_type": "code",
   "execution_count": null,
   "metadata": {},
   "outputs": [],
   "source": [
    "def feature_mask(label_image, feature_list, separators):\n",
    "    class_list = []\n",
    "\n",
    "    props = regionprops(label_image)\n",
    "    for i in range(len(props)):\n",
    "        label_id = props[i].label # gets the label id of the current region\n",
    "        \n",
    "        if(feature_list[i]<separators[0]):\n",
    "            class_mask = np.where(label_image == label_id, 1, 0)\n",
    "        elif(feature_list[i]<separators[1]):\n",
    "            class_mask = np.where(label_image == label_id, 2, 0)\n",
    "        elif(feature_list[i]<separators[2]):\n",
    "            class_mask = np.where(label_image == label_id, 3, 0)\n",
    "        else:\n",
    "            class_mask = np.where(label_image == label_id, 4, 0)\n",
    "        \n",
    "        class_list.append(class_mask)\n",
    "\n",
    "    # reconstructs the label image, now containing the eroded labels\n",
    "    class_stack = np.stack(class_list) # creates stack from list of images (numpy arrays)\n",
    "    feature_labels = np.max(class_stack, axis = 0) # calculates the maximum projection to get back a 2D, labelled image\n",
    "    return feature_labels"
   ]
  },
  {
   "cell_type": "code",
   "execution_count": null,
   "metadata": {},
   "outputs": [],
   "source": [
    "def color_code_image(image_name, image, label_image, plot_figure):\n",
    "    from skimage.color import label2rgb\n",
    "\n",
    "    # define RGB colors from Tableau 10 (default in matplotlib)\n",
    "    t10_blue = [31/255, 119/255, 180/255]\n",
    "    t10_orange = [255/255, 127/255, 14/255]\n",
    "    t10_green = [44/255, 160/255, 44/255]\n",
    "    t10_red = [214/255, 39/255, 40/255]\n",
    "\n",
    "    # list of colors\n",
    "    colors=[t10_blue, t10_orange, t10_green, t10_red]\n",
    "\n",
    "    # create RGB image with color-labels over the original, grayscale image\n",
    "    rgb_labels = label2rgb(\n",
    "        label=label_image,\n",
    "        image=image,\n",
    "        colors=colors,\n",
    "        alpha=0.7,\n",
    "        bg_label=0,\n",
    "        bg_color=None\n",
    "        )\n",
    "\n",
    "    if plot_figure:\n",
    "        # plot original and color-coded images\n",
    "        fig, ax = plt.subplots(1,2, figsize=(14,7))\n",
    "        fig.suptitle(image_name)\n",
    "        ax[0].imshow(image, cmap='gray')\n",
    "        ax[1].imshow(rgb_labels)\n",
    "        plt.show()\n",
    "\n",
    "    return rgb_labels"
   ]
  },
  {
   "cell_type": "code",
   "execution_count": null,
   "metadata": {},
   "outputs": [],
   "source": [
    "for image_name in all_images:\n",
    "    \n",
    "    # Load original image\n",
    "    img_filename = os.path.join(images_path, image_name)\n",
    "    image = io.imread(img_filename)\n",
    "    \n",
    "    # Load label image\n",
    "    lbl_filename = os.path.join(labels_path, image_name)\n",
    "    labels = io.imread(lbl_filename)\n",
    "\n",
    "    # Transform to label matrix\n",
    "    labels = label(labels)\n",
    "\n",
    "    # Calculate region properties\n",
    "    area_list, sol_list, circ_list, as_re_list = calculate_regionprops(labels)\n",
    "\n",
    "    # Get feature color-coded images\n",
    "    labels_area = feature_mask(labels, area_list, [500, 2000, 5000])\n",
    "    labels_solidity = feature_mask(labels, sol_list, [0.93, 0.95, 0.98])\n",
    "    labels_circularity = feature_mask(labels, circ_list, [0.85, 0.9, 0.95])\n",
    "    labels_aspect_ratio = feature_mask(labels, as_re_list, [1.1, 1.2, 1.4])\n",
    "\n",
    "    #color_code_area = color_code_image(image, labels_area)\n",
    "    #imageio.imwrite(os.path.join(r'C:\\Users\\Pau\\Desktop\\Neurosphere Annotations\\export\\color-coded\\area', image_name), color_code_area)\n",
    "    color_code_aspect_ratio = color_code_image(image_name, image, labels_aspect_ratio, True)\n",
    "    imageio.imwrite(os.path.join(r'C:\\Users\\Pau\\Desktop\\Neurosphere Annotations\\export\\color-coded\\aspect_ratio', str(Path(image_name).stem + '.png')), color_code_aspect_ratio)\n",
    "    #color_code_image(image, labels_circularity)\n",
    "    #color_code_image(image, labels_aspect_ratio)"
   ]
  },
  {
   "cell_type": "code",
   "execution_count": null,
   "metadata": {},
   "outputs": [],
   "source": []
  }
 ],
 "metadata": {
  "kernelspec": {
   "display_name": "Python 3.9.12 ('base')",
   "language": "python",
   "name": "python3"
  },
  "language_info": {
   "codemirror_mode": {
    "name": "ipython",
    "version": 3
   },
   "file_extension": ".py",
   "mimetype": "text/x-python",
   "name": "python",
   "nbconvert_exporter": "python",
   "pygments_lexer": "ipython3",
   "version": "3.9.12"
  },
  "orig_nbformat": 4,
  "vscode": {
   "interpreter": {
    "hash": "2d12ee0532f5fe809fea6ed49d84e6d6e9be1b8657fb8079f6358b85f8ed0388"
   }
  }
 },
 "nbformat": 4,
 "nbformat_minor": 2
}
