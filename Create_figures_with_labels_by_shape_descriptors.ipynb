{
 "cells": [
  {
   "cell_type": "code",
   "execution_count": null,
   "metadata": {},
   "outputs": [],
   "source": [
    "import os\n",
    "import glob\n",
    "from skimage import io\n",
    "import matplotlib.pyplot as plt\n",
    "\n",
    "from skimage.measure import regionprops\n",
    "from skimage.morphology import label\n",
    "import numpy as np"
   ]
  },
  {
   "cell_type": "code",
   "execution_count": null,
   "metadata": {},
   "outputs": [],
   "source": [
    "labels_path = r'D:\\Institute of Genetics and Cancer\\Neurosphere assay\\Assess_Segmentation_Data\\Ground_Truth'\n",
    "images_path = r'D:\\Institute of Genetics and Cancer\\Neurosphere assay\\Assess_Segmentation_Data\\Images'\n",
    "\n",
    "all_images =[]\n",
    "for file in glob.glob(images_path + \"\\*.tif\"):\n",
    "    all_images.append(os.path.basename(file))"
   ]
  },
  {
   "cell_type": "code",
   "execution_count": null,
   "metadata": {},
   "outputs": [],
   "source": [
    "# Import test image\n",
    "#image_name = 'D - 03.tif'\n",
    "\n",
    "#img_filename = os.path.join(images_path, image_name)\n",
    "#lbl_filename = os.path.join(labels_path, image_name)\n",
    "#image = io.imread(img_filename)\n",
    "#labels = io.imread(lbl_filename)\n",
    "\n",
    "# Get labels and plot\n",
    "#labels = label(labels)\n",
    "\n",
    "#fig, ax = plt.subplots(1, 3, figsize=(16, 8))\n",
    "#ax[0].imshow(image, cmap='gray')\n",
    "#ax[1].imshow(labels, cmap='nipy_spectral', interpolation='none')\n",
    "#ax[2].imshow(image, cmap='gray')\n",
    "#ax[2].imshow(labels, cmap='nipy_spectral', alpha=.5, interpolation='none')\n",
    "#fig.tight_layout\n",
    "#plt.show()"
   ]
  },
  {
   "cell_type": "code",
   "execution_count": null,
   "metadata": {},
   "outputs": [],
   "source": [
    "def calculate_regionprops(label_image):\n",
    "    import math\n",
    "\n",
    "    # Define additiinal properties\n",
    "    def circularity(p):\n",
    "        return 4 * math.pi * p['area'] / (p['perimeter_crofton'] ** 2) # 'perimeter' calculates circularities up to 1.5... crofton seems to be more accurate\n",
    "    def aspect_ratio(p):\n",
    "        return p['axis_major_length'] / p['axis_minor_length']\n",
    "\n",
    "    # Get properties as numpy arrays\n",
    "    props = regionprops(label_image)\n",
    "    area_np = np.asarray([p['area'] for p in props])\n",
    "    solidity_np = np.asarray([p['solidity'] for p in props])\n",
    "    circularity_np = np.asarray([circularity(p) for p in props])\n",
    "    aspect_ratio_np = np.asarray([aspect_ratio(p) for p in props])\n",
    "    return area_np, solidity_np, circularity_np, aspect_ratio_np"
   ]
  },
  {
   "cell_type": "markdown",
   "metadata": {},
   "source": [
    "## Plot histograms for the different shape descriptors"
   ]
  },
  {
   "cell_type": "code",
   "execution_count": null,
   "metadata": {},
   "outputs": [],
   "source": [
    "area_array = []\n",
    "solidity_array = []\n",
    "circularity_array = []\n",
    "aspect_ratio_array = []\n",
    "for image_name in all_images:\n",
    "    # Load original image\n",
    "    #img_filename = os.path.join(images_path, image_name)\n",
    "    #image = io.imread(img_filename)\n",
    "        \n",
    "    # Load label image\n",
    "    lbl_filename = os.path.join(labels_path, image_name)\n",
    "    labels = io.imread(lbl_filename)\n",
    "    \n",
    "    # Transform to label matrix\n",
    "    labels = label(labels)\n",
    "\n",
    "    area, sol, circ, as_re = calculate_regionprops(labels)\n",
    "    area_array = np.concatenate((area_array, area))\n",
    "    solidity_array = np.concatenate((solidity_array, sol))\n",
    "    circularity_array = np.concatenate((circularity_array, circ))\n",
    "    aspect_ratio_array = np.concatenate((aspect_ratio_array, as_re))"
   ]
  },
  {
   "cell_type": "code",
   "execution_count": null,
   "metadata": {},
   "outputs": [],
   "source": [
    "fig, ax = plt.subplots(2, 2, figsize=(14, 10))\n",
    "fig.suptitle('Object distribution for different shape descriptors', fontsize=16)\n",
    "ax[0,0].set_title('Area')\n",
    "ax[0,0].set_ylabel('Number of objects')\n",
    "ax[0,0].hist(area_array, bins=40)\n",
    "ax[0,1].set_title('Solidity')\n",
    "ax[0,1].set_ylabel('Number of objects')\n",
    "ax[0,1].hist(solidity_array, bins=40)\n",
    "ax[1,0].set_title('Circularity')\n",
    "ax[1,0].set_ylabel('Number of objects')\n",
    "ax[1,0].hist(circularity_array, bins=40)\n",
    "ax[1,1].set_title('Aspect Ratio')\n",
    "ax[1,1].set_ylabel('Number of objects')\n",
    "ax[1,1].hist(aspect_ratio_array, bins=40)\n",
    "plt.show()"
   ]
  },
  {
   "cell_type": "markdown",
   "metadata": {},
   "source": [
    "## Create color-coded images for the different shape descriptors"
   ]
  },
  {
   "cell_type": "code",
   "execution_count": null,
   "metadata": {},
   "outputs": [],
   "source": [
    "def feature_mask(label_image, feature_list):\n",
    "    class_list = []\n",
    "\n",
    "    props = regionprops(label_image)\n",
    "    for i in range(len(props)):\n",
    "        label_id = props[i].label # gets the label id of the current region\n",
    "        \n",
    "        if(feature_list[i]<500):\n",
    "            class_mask = np.where(label_image == label_id, 1, 0)\n",
    "        elif(feature_list[i]<2000):\n",
    "            class_mask = np.where(label_image == label_id, 2, 0)\n",
    "        elif(feature_list[i]<4000):\n",
    "            class_mask = np.where(label_image == label_id, 3, 0)\n",
    "        else:\n",
    "            class_mask = np.where(label_image == label_id, 4, 0)\n",
    "        \n",
    "        class_list.append(class_mask)\n",
    "\n",
    "    # reconstructs the label image, now containing the eroded labels\n",
    "    class_stack = np.stack(class_list) # creates stack from list of images (numpy arrays)\n",
    "    feature_labels = np.max(class_stack, axis = 0) # calculates the maximum projection to get back a 2D, labelled image\n",
    "    return feature_labels"
   ]
  },
  {
   "cell_type": "code",
   "execution_count": null,
   "metadata": {},
   "outputs": [],
   "source": [
    "def color_code_image(image, label_image):\n",
    "    from skimage.color import label2rgb\n",
    "\n",
    "    # define RGB colors from Tableau 10 (default in matplotlib)\n",
    "    t10_blue = [31/255, 119/255, 180/255]\n",
    "    t10_orange = [255/255, 127/255, 14/255]\n",
    "    t10_green = [44/255, 160/255, 44/255]\n",
    "    t10_red = [214/255, 39/255, 40/255]\n",
    "\n",
    "    # list of colors\n",
    "    colors=[t10_blue, t10_orange, t10_green, t10_red]\n",
    "\n",
    "    # create RGB image with color-labels over the original, grayscale image\n",
    "    rgb_labels = label2rgb(\n",
    "        label=label_image,\n",
    "        image=image,\n",
    "        colors=colors,\n",
    "        alpha=0.7,\n",
    "        bg_label=0,\n",
    "        bg_color=None\n",
    "        )\n",
    "\n",
    "    # plot original and color-coded images\n",
    "    fig, ax = plt.subplots(1,2, figsize=(16,12))\n",
    "    ax[0].imshow(image, cmap='gray')\n",
    "    ax[1].imshow(rgb_labels)\n",
    "    plt.show()"
   ]
  },
  {
   "cell_type": "code",
   "execution_count": null,
   "metadata": {},
   "outputs": [],
   "source": [
    "for image_name in all_images:\n",
    "    \n",
    "    # Load original image\n",
    "    img_filename = os.path.join(images_path, image_name)\n",
    "    image = io.imread(img_filename)\n",
    "    \n",
    "    # Load label image\n",
    "    lbl_filename = os.path.join(labels_path, image_name)\n",
    "    labels = io.imread(lbl_filename)\n",
    "\n",
    "    # Transform to label matrix\n",
    "    labels = label(labels)\n",
    "\n",
    "    # Calculate region properties\n",
    "    area, sol, circ, as_re = calculate_regionprops(labels)\n",
    "\n",
    "    # Get feature labels\n",
    "    color_code_area = feature_mask(labels, area)\n",
    "\n",
    "    # plot color-coded images\n",
    "    color_code_image(image, color_code_area)"
   ]
  },
  {
   "cell_type": "code",
   "execution_count": null,
   "metadata": {},
   "outputs": [],
   "source": []
  }
 ],
 "metadata": {
  "kernelspec": {
   "display_name": "Python 3.9.12 ('base')",
   "language": "python",
   "name": "python3"
  },
  "language_info": {
   "codemirror_mode": {
    "name": "ipython",
    "version": 3
   },
   "file_extension": ".py",
   "mimetype": "text/x-python",
   "name": "python",
   "nbconvert_exporter": "python",
   "pygments_lexer": "ipython3",
   "version": "3.9.12"
  },
  "orig_nbformat": 4,
  "vscode": {
   "interpreter": {
    "hash": "2d12ee0532f5fe809fea6ed49d84e6d6e9be1b8657fb8079f6358b85f8ed0388"
   }
  }
 },
 "nbformat": 4,
 "nbformat_minor": 2
}
